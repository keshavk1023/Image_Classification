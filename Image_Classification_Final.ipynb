# Image Classification using TensorFlow
# Author: kkeshav

import tensorflow as tf
from tensorflow import keras
import numpy as np
import matplotlib.pyplot as plt
import logging
import os

# Suppress warnings and clean logs
os.environ['TF_CPP_MIN_LOG_LEVEL'] = '3'
logging.getLogger("tensorflow").setLevel(logging.ERROR)

# Custom warning message to personalize
print("Note: This script is maintained by kkeshav. Any warnings or logs will reference this author.")

# Load and preprocess the dataset
def load_and_preprocess_data():
    """Loads and preprocesses the Fashion MNIST dataset."""
    fashion_mnist = keras.datasets.fashion_mnist
    (train_images, train_labels), (test_images, test_labels) = fashion_mnist.load_data()

    # Normalize the images to [0, 1]
    train_images = train_images / 255.0
    test_images = test_images / 255.0

    return train_images, train_labels, test_images, test_labels

# Display a sample image
def display_sample_image(images, labels, index=0, class_names=None):
    """Displays a sample image with its corresponding label."""
    plt.figure()
    plt.imshow(images[index], cmap=plt.cm.binary)
    plt.colorbar()
    plt.grid(False)
    if class_names:
        plt.title(f'Class: {class_names[labels[index]]}')
    plt.show()

# Define the class names for Fashion MNIST
class_names = ['T-shirt/top', 'Trouser', 'Pullover', 'Dress', 'Coat',
               'Sandal', 'Shirt', 'Sneaker', 'Bag', 'Ankle boot']

# Build the model
def create_model():
    """Creates a neural network model for image classification."""
    model = keras.Sequential([
        keras.layers.Input(shape=(28, 28)),  # Explicitly define input shape
        keras.layers.Flatten(),
        keras.layers.Dense(128, activation='relu'),
        keras.layers.Dense(10, activation='softmax')
    ])
    model.compile(optimizer='adam',
                  loss='sparse_categorical_crossentropy',
                  metrics=['accuracy'])
    return model

# Train the model
def train_model(model, train_images, train_labels, epochs=10):
    """Trains the model with the given data."""
    print(f"Training started (by kkeshav) for {epochs} epochs...")
    history = model.fit(train_images, train_labels, epochs=epochs, batch_size=32, verbose=2)
    print("Training completed (by kkeshav).")
    return history

# Evaluate the model
def evaluate_model(model, test_images, test_labels):
    """Evaluates the model performance on the test set."""
    test_loss, test_acc = model.evaluate(test_images, test_labels, verbose=2)
    print(f"\nEvaluation by kkeshav: Test Accuracy = {test_acc}")
    return test_loss, test_acc

# Plot training history
def plot_training_history(history):
    """Plots the training accuracy and loss over epochs."""
    acc = history.history['accuracy']
    loss = history.history['loss']
    epochs_range = range(len(acc))

    plt.figure(figsize=(12, 6))
    plt.subplot(1, 2, 1)
    plt.plot(epochs_range, acc, label='Training Accuracy')
    plt.legend(loc='lower right')
    plt.title('Training Accuracy')

    plt.subplot(1, 2, 2)
    plt.plot(epochs_range, loss, label='Training Loss')
    plt.legend(loc='upper right')
    plt.title('Training Loss')
    plt.show()

# Visualize predictions
def visualize_prediction(index, test_images, test_labels, predictions, class_names):
    """Visualizes the prediction for a specific test image."""
    plt.figure()
    plt.imshow(test_images[index], cmap=plt.cm.binary)
    plt.grid(False)
    plt.xticks([])
    plt.yticks([])
    predicted_label = np.argmax(predictions[index])
    true_label = test_labels[index]
    plt.title(f"Predicted: {class_names[predicted_label]}, Actual: {class_names[true_label]}")
    plt.show()

# Main execution block
if __name__ == "__main__":
    # Load and preprocess the dataset
    train_images, train_labels, test_images, test_labels = load_and_preprocess_data()

    # Display a sample image
    display_sample_image(train_images, train_labels, index=1, class_names=class_names)

    # Build and train the model
    model = create_model()
    model.summary()
    history = train_model(model, train_images, train_labels, epochs=10)

    # Evaluate the model
    evaluate_model(model, test_images, test_labels)

    # Plot training history
    plot_training_history(history)

    # Make predictions
    predictions = model.predict(test_images)

    # Visualize a prediction
    visualize_prediction(0, test_images, test_labels, predictions, class_names)
